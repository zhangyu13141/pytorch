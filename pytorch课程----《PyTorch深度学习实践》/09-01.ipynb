{
 "cells": [
  {
   "cell_type": "code",
   "execution_count": 27,
   "metadata": {},
   "outputs": [],
   "source": [
    "import torch \n",
    "from torchvision import transforms\n",
    "from torchvision import datasets\n",
    "from torch.utils.data import DataLoader\n",
    "import torch.nn.functional as F\n",
    "import torch.optim as optim"
   ]
  },
  {
   "cell_type": "code",
   "execution_count": 28,
   "metadata": {},
   "outputs": [],
   "source": [
    "batch_size=64"
   ]
  },
  {
   "cell_type": "code",
   "execution_count": 29,
   "metadata": {},
   "outputs": [],
   "source": [
    "transform=transforms.Compose([\n",
    "    transforms.ToTensor(),#把0-255转换成0-1,把维度转换成C*W*H\n",
    "    transforms.Normalize((0.1307,),(0.3081,))])#均值和标准差,归一化,"
   ]
  },
  {
   "cell_type": "code",
   "execution_count": 30,
   "metadata": {},
   "outputs": [],
   "source": [
    "train_dataset=datasets.MNIST(root='../dataset/mnist/',\n",
    "                             train=True,\n",
    "                             download=True,\n",
    "                             transform=transform)"
   ]
  },
  {
   "cell_type": "code",
   "execution_count": 31,
   "metadata": {},
   "outputs": [],
   "source": [
    "train_loader=DataLoader(train_dataset,\n",
    "                        shuffle=True,\n",
    "                        batch_size=batch_size)"
   ]
  },
  {
   "cell_type": "code",
   "execution_count": 32,
   "metadata": {},
   "outputs": [],
   "source": [
    "test_dataset=datasets.MNIST(root='../dataset/mnist/',\n",
    "                           train=False,\n",
    "                           download=True,\n",
    "                           transform=transform)"
   ]
  },
  {
   "cell_type": "code",
   "execution_count": 33,
   "metadata": {},
   "outputs": [],
   "source": [
    "test_loader=DataLoader(test_dataset,\n",
    "                      shuffle=False,\n",
    "                      batch_size=batch_size)"
   ]
  },
  {
   "cell_type": "markdown",
   "metadata": {},
   "source": []
  },
  {
   "cell_type": "code",
   "execution_count": 34,
   "metadata": {},
   "outputs": [],
   "source": [
    "class Net(torch.nn.Module):\n",
    "    def __init__(self):\n",
    "        super(Net,self).__init__()\n",
    "        self.l1=torch.nn.Linear(784,512)\n",
    "        self.l2=torch.nn.Linear(512,256)\n",
    "        self.l3=torch.nn.Linear(256,128)\n",
    "        self.l4=torch.nn.Linear(128,64)\n",
    "        self.l5=torch.nn.Linear(64,10)\n",
    "    def forward(self,x):\n",
    "        x=x.view(-1,784)\n",
    "        x=F.relu(self.l1(x))\n",
    "        x=F.relu(self.l2(x))\n",
    "        x=F.relu(self.l3(x))\n",
    "        x=F.relu(self.l4(x))\n",
    "        return self.l5(x)\n",
    "model=Net()"
   ]
  },
  {
   "cell_type": "code",
   "execution_count": 35,
   "metadata": {},
   "outputs": [],
   "source": [
    "criterion=torch.nn.CrossEntropyLoss()"
   ]
  },
  {
   "cell_type": "code",
   "execution_count": 36,
   "metadata": {},
   "outputs": [],
   "source": [
    "optimizer=optim.SGD(model.parameters(),lr=0.01,momentum=0.5)"
   ]
  },
  {
   "cell_type": "code",
   "execution_count": 37,
   "metadata": {},
   "outputs": [],
   "source": [
    "def train(epoch):\n",
    "    running_loss=0.0\n",
    "    for batch_idx,data in enumerate(train_loader,0):\n",
    "        inputs, target = data\n",
    "        optimizer.zero_grad()\n",
    "        # forward + backward + update\n",
    "        outputs = model(inputs)\n",
    "        loss = criterion(outputs, target)\n",
    "        loss.backward()\n",
    "        optimizer.step()\n",
    "        running_loss += loss.item()\n",
    "        if batch_idx % 300 == 299:\n",
    "            print('[%d, %5d] loss: %.3f' % (epoch + 1, batch_idx + 1, running_loss / 300))\n",
    "            running_loss = 0.0        "
   ]
  },
  {
   "cell_type": "code",
   "execution_count": 38,
   "metadata": {},
   "outputs": [],
   "source": [
    "def test():\n",
    "    correct=0\n",
    "    total=0\n",
    "    with torch.no_grad():\n",
    "        for data in test_loader:\n",
    "            images, labels = data\n",
    "            outputs = model(images)\n",
    "            _, predicted = torch.max(outputs.data, dim=1)\n",
    "            total += labels.size(0)\n",
    "            correct += (predicted == labels).sum().item()\n",
    "    print('Accuracy on test set: %d %%'%(100*correct/total))"
   ]
  },
  {
   "cell_type": "code",
   "execution_count": 39,
   "metadata": {},
   "outputs": [
    {
     "name": "stdout",
     "output_type": "stream",
     "text": [
      "[1,   300] loss: 2.193\n",
      "[1,   600] loss: 0.819\n",
      "[1,   900] loss: 0.422\n",
      "Accuracy on test set: 90 %\n",
      "[2,   300] loss: 0.317\n",
      "[2,   600] loss: 0.266\n",
      "[2,   900] loss: 0.223\n",
      "Accuracy on test set: 93 %\n",
      "[3,   300] loss: 0.191\n",
      "[3,   600] loss: 0.165\n",
      "[3,   900] loss: 0.151\n",
      "Accuracy on test set: 96 %\n",
      "[4,   300] loss: 0.132\n",
      "[4,   600] loss: 0.122\n",
      "[4,   900] loss: 0.113\n",
      "Accuracy on test set: 96 %\n",
      "[5,   300] loss: 0.096\n",
      "[5,   600] loss: 0.096\n",
      "[5,   900] loss: 0.090\n",
      "Accuracy on test set: 96 %\n",
      "[6,   300] loss: 0.077\n",
      "[6,   600] loss: 0.077\n",
      "[6,   900] loss: 0.076\n",
      "Accuracy on test set: 97 %\n",
      "[7,   300] loss: 0.063\n",
      "[7,   600] loss: 0.061\n",
      "[7,   900] loss: 0.059\n",
      "Accuracy on test set: 97 %\n",
      "[8,   300] loss: 0.047\n",
      "[8,   600] loss: 0.048\n",
      "[8,   900] loss: 0.051\n",
      "Accuracy on test set: 97 %\n",
      "[9,   300] loss: 0.038\n",
      "[9,   600] loss: 0.044\n",
      "[9,   900] loss: 0.039\n",
      "Accuracy on test set: 97 %\n",
      "[10,   300] loss: 0.031\n",
      "[10,   600] loss: 0.032\n",
      "[10,   900] loss: 0.036\n",
      "Accuracy on test set: 97 %\n"
     ]
    }
   ],
   "source": [
    "for epoch in range(10):\n",
    "    train(epoch)\n",
    "    test()"
   ]
  },
  {
   "cell_type": "markdown",
   "metadata": {},
   "source": [
    "权重不够多,局部信息的利用不够好,特征提取欸有,例如傅里叶变换,高级特征"
   ]
  },
  {
   "cell_type": "markdown",
   "metadata": {},
   "source": [
    "高抽象级别的特征,现在比较原始"
   ]
  },
  {
   "cell_type": "code",
   "execution_count": null,
   "metadata": {},
   "outputs": [],
   "source": []
  }
 ],
 "metadata": {
  "kernelspec": {
   "display_name": "Python 3",
   "language": "python",
   "name": "python3"
  },
  "language_info": {
   "codemirror_mode": {
    "name": "ipython",
    "version": 3
   },
   "file_extension": ".py",
   "mimetype": "text/x-python",
   "name": "python",
   "nbconvert_exporter": "python",
   "pygments_lexer": "ipython3",
   "version": "3.7.4"
  }
 },
 "nbformat": 4,
 "nbformat_minor": 2
}
