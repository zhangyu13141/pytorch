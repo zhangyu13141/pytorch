{
 "cells": [
  {
   "cell_type": "markdown",
   "metadata": {},
   "source": [
    "1.使用pytorch来构造模型\n",
    "2,构造loss\n",
    "3.随机梯度下降"
   ]
  },
  {
   "cell_type": "markdown",
   "metadata": {},
   "source": [
    "首先要构造模型,然后计算loss,loss是一个标量,找最小"
   ]
  },
  {
   "cell_type": "markdown",
   "metadata": {},
   "source": [
    "first,prepare dataset ,"
   ]
  },
  {
   "cell_type": "code",
   "execution_count": 192,
   "metadata": {},
   "outputs": [],
   "source": [
    "import torch"
   ]
  },
  {
   "cell_type": "code",
   "execution_count": 193,
   "metadata": {},
   "outputs": [],
   "source": [
    "x_data=torch.Tensor([[1.0],[2.0],[3.0]])#x_data是3*1,3行1列"
   ]
  },
  {
   "cell_type": "code",
   "execution_count": 194,
   "metadata": {},
   "outputs": [],
   "source": [
    "y_data=torch.Tensor([[2.0],[4.0],[6.0]])#因为要用到minbatch,所以x和y都是向量"
   ]
  },
  {
   "cell_type": "code",
   "execution_count": 195,
   "metadata": {
    "scrolled": true
   },
   "outputs": [
    {
     "name": "stdout",
     "output_type": "stream",
     "text": [
      "tensor([[2.],\n",
      "        [4.],\n",
      "        [6.]])\n"
     ]
    }
   ],
   "source": [
    "print(y_data)"
   ]
  },
  {
   "cell_type": "markdown",
   "metadata": {},
   "source": [
    "nn是neural network"
   ]
  },
  {
   "cell_type": "code",
   "execution_count": 196,
   "metadata": {},
   "outputs": [],
   "source": [
    "class LinearModel(torch.nn.Module):\n",
    "    def __init__(self):\n",
    "        #module可以自动进行反向传播\n",
    "        super(LinearModel,self).__init__()#super() 函数是用于调用父类(超类)的一个方法。#调用父类的构造\n",
    "        self.Linear=torch.nn.Linear(1,1)#实例化类,传两个参数,w和b,构造对象\n",
    "    def forward(self,x):\n",
    "        y_pred=self.Linear(x)\n",
    "        return y_pred\n",
    "model=LinearModel()        "
   ]
  },
  {
   "cell_type": "code",
   "execution_count": 197,
   "metadata": {},
   "outputs": [],
   "source": [
    "criterion=torch.nn.MSELoss(reduction='mean')"
   ]
  },
  {
   "cell_type": "markdown",
   "metadata": {},
   "source": [
    "torch.nn.MSELoss?"
   ]
  },
  {
   "cell_type": "markdown",
   "metadata": {},
   "source": [
    "criterion?"
   ]
  },
  {
   "cell_type": "code",
   "execution_count": 200,
   "metadata": {},
   "outputs": [],
   "source": [
    "optimizer=torch.optim.Rprop(model.parameters(),lr=0.01)"
   ]
  },
  {
   "cell_type": "markdown",
   "metadata": {},
   "source": [
    "torch.optim.LBFGS?\n"
   ]
  },
  {
   "cell_type": "code",
   "execution_count": 208,
   "metadata": {},
   "outputs": [
    {
     "name": "stdout",
     "output_type": "stream",
     "text": [
      "0 tensor(5.4949e-13, grad_fn=<MseLossBackward>)\n",
      "1 tensor(6.9159e-12, grad_fn=<MseLossBackward>)\n",
      "2 tensor(6.9159e-12, grad_fn=<MseLossBackward>)\n",
      "3 tensor(5.4949e-13, grad_fn=<MseLossBackward>)\n",
      "4 tensor(5.4949e-13, grad_fn=<MseLossBackward>)\n",
      "5 tensor(6.9159e-12, grad_fn=<MseLossBackward>)\n",
      "6 tensor(6.9159e-12, grad_fn=<MseLossBackward>)\n",
      "7 tensor(5.4949e-13, grad_fn=<MseLossBackward>)\n",
      "8 tensor(5.4949e-13, grad_fn=<MseLossBackward>)\n",
      "9 tensor(6.9159e-12, grad_fn=<MseLossBackward>)\n",
      "10 tensor(6.9159e-12, grad_fn=<MseLossBackward>)\n",
      "11 tensor(5.4949e-13, grad_fn=<MseLossBackward>)\n",
      "12 tensor(5.4949e-13, grad_fn=<MseLossBackward>)\n",
      "13 tensor(6.9159e-12, grad_fn=<MseLossBackward>)\n",
      "14 tensor(6.9159e-12, grad_fn=<MseLossBackward>)\n",
      "15 tensor(5.4949e-13, grad_fn=<MseLossBackward>)\n",
      "16 tensor(5.4949e-13, grad_fn=<MseLossBackward>)\n",
      "17 tensor(6.9159e-12, grad_fn=<MseLossBackward>)\n",
      "18 tensor(6.9159e-12, grad_fn=<MseLossBackward>)\n",
      "19 tensor(5.4949e-13, grad_fn=<MseLossBackward>)\n",
      "20 tensor(5.4949e-13, grad_fn=<MseLossBackward>)\n",
      "21 tensor(6.9159e-12, grad_fn=<MseLossBackward>)\n",
      "22 tensor(6.9159e-12, grad_fn=<MseLossBackward>)\n",
      "23 tensor(5.4949e-13, grad_fn=<MseLossBackward>)\n",
      "24 tensor(5.4949e-13, grad_fn=<MseLossBackward>)\n",
      "25 tensor(6.9159e-12, grad_fn=<MseLossBackward>)\n",
      "26 tensor(6.9159e-12, grad_fn=<MseLossBackward>)\n",
      "27 tensor(5.4949e-13, grad_fn=<MseLossBackward>)\n",
      "28 tensor(5.4949e-13, grad_fn=<MseLossBackward>)\n",
      "29 tensor(6.9159e-12, grad_fn=<MseLossBackward>)\n",
      "30 tensor(6.9159e-12, grad_fn=<MseLossBackward>)\n",
      "31 tensor(5.4949e-13, grad_fn=<MseLossBackward>)\n",
      "32 tensor(5.4949e-13, grad_fn=<MseLossBackward>)\n",
      "33 tensor(6.9159e-12, grad_fn=<MseLossBackward>)\n",
      "34 tensor(6.9159e-12, grad_fn=<MseLossBackward>)\n",
      "35 tensor(5.4949e-13, grad_fn=<MseLossBackward>)\n",
      "36 tensor(5.4949e-13, grad_fn=<MseLossBackward>)\n",
      "37 tensor(6.9159e-12, grad_fn=<MseLossBackward>)\n",
      "38 tensor(6.9159e-12, grad_fn=<MseLossBackward>)\n",
      "39 tensor(5.4949e-13, grad_fn=<MseLossBackward>)\n",
      "40 tensor(5.4949e-13, grad_fn=<MseLossBackward>)\n",
      "41 tensor(6.9159e-12, grad_fn=<MseLossBackward>)\n",
      "42 tensor(6.9159e-12, grad_fn=<MseLossBackward>)\n",
      "43 tensor(5.4949e-13, grad_fn=<MseLossBackward>)\n",
      "44 tensor(5.4949e-13, grad_fn=<MseLossBackward>)\n",
      "45 tensor(6.9159e-12, grad_fn=<MseLossBackward>)\n",
      "46 tensor(6.9159e-12, grad_fn=<MseLossBackward>)\n",
      "47 tensor(5.4949e-13, grad_fn=<MseLossBackward>)\n",
      "48 tensor(5.4949e-13, grad_fn=<MseLossBackward>)\n",
      "49 tensor(6.9159e-12, grad_fn=<MseLossBackward>)\n",
      "50 tensor(6.9159e-12, grad_fn=<MseLossBackward>)\n",
      "51 tensor(5.4949e-13, grad_fn=<MseLossBackward>)\n",
      "52 tensor(5.4949e-13, grad_fn=<MseLossBackward>)\n",
      "53 tensor(6.9159e-12, grad_fn=<MseLossBackward>)\n",
      "54 tensor(6.9159e-12, grad_fn=<MseLossBackward>)\n",
      "55 tensor(5.4949e-13, grad_fn=<MseLossBackward>)\n",
      "56 tensor(5.4949e-13, grad_fn=<MseLossBackward>)\n",
      "57 tensor(6.9159e-12, grad_fn=<MseLossBackward>)\n",
      "58 tensor(6.9159e-12, grad_fn=<MseLossBackward>)\n",
      "59 tensor(5.4949e-13, grad_fn=<MseLossBackward>)\n",
      "60 tensor(5.4949e-13, grad_fn=<MseLossBackward>)\n",
      "61 tensor(6.9159e-12, grad_fn=<MseLossBackward>)\n",
      "62 tensor(6.9159e-12, grad_fn=<MseLossBackward>)\n",
      "63 tensor(5.4949e-13, grad_fn=<MseLossBackward>)\n",
      "64 tensor(5.4949e-13, grad_fn=<MseLossBackward>)\n",
      "65 tensor(6.9159e-12, grad_fn=<MseLossBackward>)\n",
      "66 tensor(6.9159e-12, grad_fn=<MseLossBackward>)\n",
      "67 tensor(5.4949e-13, grad_fn=<MseLossBackward>)\n",
      "68 tensor(5.4949e-13, grad_fn=<MseLossBackward>)\n",
      "69 tensor(6.9159e-12, grad_fn=<MseLossBackward>)\n",
      "70 tensor(6.9159e-12, grad_fn=<MseLossBackward>)\n",
      "71 tensor(5.4949e-13, grad_fn=<MseLossBackward>)\n",
      "72 tensor(5.4949e-13, grad_fn=<MseLossBackward>)\n",
      "73 tensor(6.9159e-12, grad_fn=<MseLossBackward>)\n",
      "74 tensor(6.9159e-12, grad_fn=<MseLossBackward>)\n",
      "75 tensor(5.4949e-13, grad_fn=<MseLossBackward>)\n",
      "76 tensor(5.4949e-13, grad_fn=<MseLossBackward>)\n",
      "77 tensor(6.9159e-12, grad_fn=<MseLossBackward>)\n",
      "78 tensor(6.9159e-12, grad_fn=<MseLossBackward>)\n",
      "79 tensor(5.4949e-13, grad_fn=<MseLossBackward>)\n",
      "80 tensor(5.4949e-13, grad_fn=<MseLossBackward>)\n",
      "81 tensor(6.9159e-12, grad_fn=<MseLossBackward>)\n",
      "82 tensor(6.9159e-12, grad_fn=<MseLossBackward>)\n",
      "83 tensor(5.4949e-13, grad_fn=<MseLossBackward>)\n",
      "84 tensor(5.4949e-13, grad_fn=<MseLossBackward>)\n",
      "85 tensor(6.9159e-12, grad_fn=<MseLossBackward>)\n",
      "86 tensor(6.9159e-12, grad_fn=<MseLossBackward>)\n",
      "87 tensor(5.4949e-13, grad_fn=<MseLossBackward>)\n",
      "88 tensor(5.4949e-13, grad_fn=<MseLossBackward>)\n",
      "89 tensor(6.9159e-12, grad_fn=<MseLossBackward>)\n",
      "90 tensor(6.9159e-12, grad_fn=<MseLossBackward>)\n",
      "91 tensor(5.4949e-13, grad_fn=<MseLossBackward>)\n",
      "92 tensor(5.4949e-13, grad_fn=<MseLossBackward>)\n",
      "93 tensor(6.9159e-12, grad_fn=<MseLossBackward>)\n",
      "94 tensor(6.9159e-12, grad_fn=<MseLossBackward>)\n",
      "95 tensor(5.4949e-13, grad_fn=<MseLossBackward>)\n",
      "96 tensor(5.4949e-13, grad_fn=<MseLossBackward>)\n",
      "97 tensor(6.9159e-12, grad_fn=<MseLossBackward>)\n",
      "98 tensor(6.9159e-12, grad_fn=<MseLossBackward>)\n",
      "99 tensor(5.4949e-13, grad_fn=<MseLossBackward>)\n"
     ]
    }
   ],
   "source": [
    "for epoch in range(100):\n",
    "    y_pred=model(x_data)\n",
    "    loss=criterion(y_pred,y_data)\n",
    "    print(epoch, loss)#\n",
    "    optimizer.zero_grad()#\n",
    "    loss.backward()# \n",
    "    optimizer.step()#更新"
   ]
  },
  {
   "cell_type": "markdown",
   "metadata": {},
   "source": [
    "optimizer.step?"
   ]
  },
  {
   "cell_type": "code",
   "execution_count": 209,
   "metadata": {},
   "outputs": [
    {
     "name": "stdout",
     "output_type": "stream",
     "text": [
      "w= 1.9999994039535522\n",
      "b= 1.8190295349995722e-06\n"
     ]
    }
   ],
   "source": [
    "print('w=',model.Linear.weight.item())\n",
    "print('b=',model.Linear.bias.item())"
   ]
  },
  {
   "cell_type": "code",
   "execution_count": 211,
   "metadata": {},
   "outputs": [
    {
     "name": "stdout",
     "output_type": "stream",
     "text": [
      "y_pred= tensor([10.0000])\n"
     ]
    }
   ],
   "source": [
    "x_test=torch.Tensor([5.0])\n",
    "y_test=model(x_test)\n",
    "print('y_pred=',y_test.data)"
   ]
  },
  {
   "cell_type": "code",
   "execution_count": null,
   "metadata": {},
   "outputs": [],
   "source": []
  },
  {
   "cell_type": "code",
   "execution_count": null,
   "metadata": {},
   "outputs": [],
   "source": []
  },
  {
   "cell_type": "code",
   "execution_count": null,
   "metadata": {},
   "outputs": [],
   "source": []
  },
  {
   "cell_type": "code",
   "execution_count": null,
   "metadata": {},
   "outputs": [],
   "source": []
  },
  {
   "cell_type": "code",
   "execution_count": null,
   "metadata": {},
   "outputs": [],
   "source": []
  },
  {
   "cell_type": "code",
   "execution_count": null,
   "metadata": {},
   "outputs": [],
   "source": []
  },
  {
   "cell_type": "code",
   "execution_count": null,
   "metadata": {},
   "outputs": [],
   "source": []
  }
 ],
 "metadata": {
  "kernelspec": {
   "display_name": "Python 3",
   "language": "python",
   "name": "python3"
  },
  "language_info": {
   "codemirror_mode": {
    "name": "ipython",
    "version": 3
   },
   "file_extension": ".py",
   "mimetype": "text/x-python",
   "name": "python",
   "nbconvert_exporter": "python",
   "pygments_lexer": "ipython3",
   "version": "3.7.4"
  }
 },
 "nbformat": 4,
 "nbformat_minor": 2
}
