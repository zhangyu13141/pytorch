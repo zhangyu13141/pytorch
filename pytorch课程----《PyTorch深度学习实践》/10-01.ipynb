{
 "cells": [
  {
   "cell_type": "code",
   "execution_count": 4,
   "metadata": {},
   "outputs": [],
   "source": [
    "import torch \n",
    "from torchvision import transforms\n",
    "from torchvision import datasets\n",
    "from torch.utils.data import DataLoader\n",
    "import torch.nn.functional as F\n",
    "import torch.optim as optim"
   ]
  },
  {
   "cell_type": "code",
   "execution_count": 5,
   "metadata": {},
   "outputs": [],
   "source": [
    "batch_size=64"
   ]
  },
  {
   "cell_type": "code",
   "execution_count": 6,
   "metadata": {},
   "outputs": [],
   "source": [
    "transform=transforms.Compose([\n",
    "    transforms.ToTensor(),\n",
    "    transforms.Normalize((0.1307,),(0.3081,))])"
   ]
  },
  {
   "cell_type": "code",
   "execution_count": 7,
   "metadata": {},
   "outputs": [],
   "source": [
    "train_dataset=datasets.MNIST(root='../dataset/mnist/',\n",
    "                             train=True,\n",
    "                             download=True,\n",
    "                             transform=transform)"
   ]
  },
  {
   "cell_type": "code",
   "execution_count": 8,
   "metadata": {},
   "outputs": [],
   "source": [
    "train_loader=DataLoader(train_dataset,\n",
    "                       batch_size=batch_size,\n",
    "                       shuffle=True)"
   ]
  },
  {
   "cell_type": "code",
   "execution_count": 9,
   "metadata": {},
   "outputs": [],
   "source": [
    "test_dataset=datasets.MNIST(root='../dataset/mnist/',\n",
    "                           train=False,\n",
    "                           download=True,\n",
    "                           transform=transform)"
   ]
  },
  {
   "cell_type": "code",
   "execution_count": 10,
   "metadata": {},
   "outputs": [],
   "source": [
    "test_loader=DataLoader(test_dataset,\n",
    "                      batch_size=batch_size,\n",
    "                      shuffle=True)"
   ]
  },
  {
   "cell_type": "code",
   "execution_count": 11,
   "metadata": {},
   "outputs": [],
   "source": [
    "class Net(torch.nn.Module):\n",
    "    def __init__(self):\n",
    "        super(Net,self).__init__()\n",
    "        self.conv1=torch.nn.Conv2d(1,10,kernel_size=5)\n",
    "        self.conv2=torch.nn.Conv2d(10,20,kernel_size=5)\n",
    "        self.pooling=torch.nn.MaxPool2d(2)\n",
    "        self.fc=torch.nn.Linear(320,10)\n",
    "    def forward(self,x):\n",
    "        batch_size=x.size(0)\n",
    "        x=F.relu(self.pooling(self.conv1(x)))\n",
    "        x=F.relu(self.pooling(self.conv2(x)))\n",
    "        x=x.view(batch_size,-1)\n",
    "        x=self.fc(x)\n",
    "        return x\n",
    "model=Net()"
   ]
  },
  {
   "cell_type": "code",
   "execution_count": 12,
   "metadata": {},
   "outputs": [],
   "source": [
    "criterion=torch.nn.CrossEntropyLoss()"
   ]
  },
  {
   "cell_type": "code",
   "execution_count": 13,
   "metadata": {},
   "outputs": [],
   "source": [
    "optimizer=optim.SGD(model.parameters(),lr=0.01)"
   ]
  },
  {
   "cell_type": "code",
   "execution_count": 14,
   "metadata": {},
   "outputs": [],
   "source": [
    "def train(epoch):\n",
    "    runing_loss=0\n",
    "    for batch_idx,data in enumerate(train_loader,0):\n",
    "        inputs,targets=data\n",
    "        optimizer.zero_grad()\n",
    "        output=model(inputs)\n",
    "        loss=criterion(output,targets)\n",
    "        loss.backward()\n",
    "        optimizer.step()\n",
    "        runing_loss+=loss.item()\n",
    "        if batch_idx%300==299:\n",
    "            print(epoch+1,batch_idx+1,runing_loss/300)"
   ]
  },
  {
   "cell_type": "code",
   "execution_count": 15,
   "metadata": {},
   "outputs": [],
   "source": [
    "def test():\n",
    "    correct=0\n",
    "    total=0\n",
    "    with torch.no_grad():\n",
    "        for data in test_loader:\n",
    "            inputs,labels=data\n",
    "            o=model(inputs)\n",
    "            _,predict=torch.max(o.data,dim=1)\n",
    "            total+=labels.size(0)\n",
    "            correct+=(predict==labels).sum().item()\n",
    "    print(correct/total*100)\n",
    "            "
   ]
  },
  {
   "cell_type": "code",
   "execution_count": null,
   "metadata": {},
   "outputs": [
    {
     "name": "stdout",
     "output_type": "stream",
     "text": [
      "1 300 0.9476434652507305\n",
      "1 600 1.2272410172472397\n",
      "1 900 1.4198791986703874\n",
      "95.32000000000001\n",
      "2 300 0.15787420639147362\n",
      "2 600 0.29391152432188394\n",
      "2 900 0.41296685316289466\n",
      "97.1\n",
      "3 300 0.11240532538543145\n",
      "3 600 0.21070494282369812\n",
      "3 900 0.3038729083072394\n",
      "97.72999999999999\n",
      "4 300 0.0894860949460417\n",
      "4 600 0.17707331899553538\n",
      "4 900 0.2510426239281272\n",
      "97.95\n",
      "5 300 0.074936373536475\n",
      "5 600 0.14675517367043842\n",
      "5 900 0.21595868893200532\n",
      "98.13\n",
      "6 300 0.06822908181231468\n",
      "6 600 0.13163239819463343\n",
      "6 900 0.19257959764450788\n",
      "98.26\n",
      "7 300 0.055320085622370244\n",
      "7 600 0.1144217461735631\n",
      "7 900 0.1759761040828501\n",
      "98.29\n",
      "8 300 0.05712391459926342\n",
      "8 600 0.11277267718687653\n",
      "8 900 0.165550799225457\n",
      "98.55000000000001\n",
      "9 300 0.05276952735303591\n",
      "9 600 0.10477803432460253\n",
      "9 900 0.15280122115975245\n",
      "98.52\n",
      "10 300 0.04703355359922474\n",
      "10 600 0.09341501952381805\n",
      "10 900 0.14597364283089215\n",
      "98.7\n",
      "11 300 0.04439353136733795\n",
      "11 600 0.08715780981855156\n",
      "11 900 0.13566403028632826\n",
      "98.50999999999999\n",
      "12 300 0.04539884321896049\n",
      "12 600 0.08556723672392157\n",
      "12 900 0.13063438016960086\n",
      "98.72999999999999\n",
      "13 300 0.03948783614750331\n",
      "13 600 0.07970335707572909\n",
      "13 900 0.12338007351732813\n",
      "98.8\n",
      "14 300 0.03956900970622276\n",
      "14 600 0.0802060938902044\n",
      "14 900 0.11650679112101595\n",
      "98.66\n",
      "15 300 0.03752363222689989\n",
      "15 600 0.07528476787343\n",
      "15 900 0.11217759513490212\n",
      "98.8\n",
      "16 300 0.03565629588595281\n",
      "16 600 0.06967292993407076\n",
      "16 900 0.10786081504852821\n",
      "98.72\n",
      "17 300 0.03293951886512029\n",
      "17 600 0.07177312317459533\n",
      "17 900 0.10212619352542485\n",
      "98.56\n",
      "18 300 0.03575565824207539\n",
      "18 600 0.06768083106842823\n",
      "18 900 0.10022999023281348\n",
      "98.85000000000001\n",
      "19 300 0.03029776124865748\n",
      "19 600 0.06083887274377048\n",
      "19 900 0.09583673031651414\n",
      "98.72999999999999\n",
      "20 300 0.028838000305307407\n",
      "20 600 0.05946721410766865\n",
      "20 900 0.0933209083089605\n",
      "98.88\n",
      "21 300 0.02930315351812169\n",
      "21 600 0.058161678126392266\n",
      "21 900 0.08825833797377224\n",
      "98.85000000000001\n",
      "22 300 0.024811423591260488\n",
      "22 600 0.05808393050140391\n",
      "22 900 0.08718711956442955\n",
      "98.94\n",
      "23 300 0.026756109207635746\n",
      "23 600 0.053782126954756676\n",
      "23 900 0.08281651670423647\n",
      "98.88\n",
      "24 300 0.027909364139195533\n",
      "24 600 0.05389342656941153\n",
      "24 900 0.07975106610567309\n",
      "98.98\n",
      "25 300 0.02571305229270365\n",
      "25 600 0.05141476351825986\n",
      "25 900 0.07737239108304493\n",
      "98.7\n",
      "26 300 0.024191895377880426\n",
      "26 600 0.04851819775639645\n",
      "26 900 0.07514486166056789\n",
      "98.92\n",
      "27 300 0.023922254421631806\n",
      "27 600 0.05103098943305667\n",
      "27 900 0.07347398516741425\n",
      "98.87\n",
      "28 300 0.023604311954113655\n",
      "28 600 0.048261758397178105\n",
      "28 900 0.07088130904031763\n",
      "98.83\n"
     ]
    }
   ],
   "source": [
    "for epoch in range(100):\n",
    "    train(epoch)\n",
    "    test()"
   ]
  },
  {
   "cell_type": "code",
   "execution_count": null,
   "metadata": {},
   "outputs": [],
   "source": []
  },
  {
   "cell_type": "code",
   "execution_count": null,
   "metadata": {},
   "outputs": [],
   "source": []
  }
 ],
 "metadata": {
  "kernelspec": {
   "display_name": "Python 3",
   "language": "python",
   "name": "python3"
  },
  "language_info": {
   "codemirror_mode": {
    "name": "ipython",
    "version": 3
   },
   "file_extension": ".py",
   "mimetype": "text/x-python",
   "name": "python",
   "nbconvert_exporter": "python",
   "pygments_lexer": "ipython3",
   "version": "3.7.4"
  }
 },
 "nbformat": 4,
 "nbformat_minor": 2
}
