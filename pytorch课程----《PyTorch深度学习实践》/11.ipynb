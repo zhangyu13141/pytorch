{
 "cells": [
  {
   "cell_type": "markdown",
   "metadata": {},
   "source": [
    "inception模块:\n",
    "1*1卷积:神经网络里的神经网络"
   ]
  },
  {
   "cell_type": "code",
   "execution_count": 17,
   "metadata": {},
   "outputs": [],
   "source": [
    "import torch\n",
    "import torch.nn as nn"
   ]
  },
  {
   "cell_type": "markdown",
   "metadata": {},
   "source": [
    "GoogleNet:"
   ]
  },
  {
   "cell_type": "code",
   "execution_count": 18,
   "metadata": {},
   "outputs": [],
   "source": [
    "class InceptionA(nn.Module):\n",
    "    def __init__(self,in_channels):\n",
    "        super(InceptionA,self).__init__()\n",
    "        self.branch1=nn.Conv2d(in_channels,16,kernel_size=1)\n",
    "        self.branch5_1=nn.Conv2d(in_channels,16,kernel_size=1)\n",
    "        self.branch5_2=nn.Conv2d(16,24,kernel_size=5,padding=2)\n",
    "        self.branch3_1=nn.Conv2d(in_channels,16,kernel_size=1)\n",
    "        self.branch3_2=nn.Conv2d(16,24,kernel_size=3,padding=1)\n",
    "        self.branch3_3=nn.Conv2d(24,24,kernel_size=3,padding=1)\n",
    "        self.branch_pool=nn.Conv2d(in_channels,24,kernel_size=1)\n",
    "    def forward(self,x):\n",
    "        branch1=self.branch1(x)\n",
    "        branch5=self.branch5_1(x)\n",
    "        branch5=self.branch5_2(branch5)\n",
    "        branch3=self.branch3_1(x)\n",
    "        branch3=self.branch3_2(branch3)\n",
    "        branch3=self.branch3_3(branch3)\n",
    "        branch_pool=F.avg_pool2d(x,kernel_size=3,stride=1,padding=1)\n",
    "        branch_pool=self.branch_pool(branch_pool)\n",
    "        ouput=[branch1,branch5,branch3,branch_pool]\n",
    "        return torch.cat(output,dim=1)      "
   ]
  },
  {
   "cell_type": "code",
   "execution_count": 20,
   "metadata": {},
   "outputs": [],
   "source": [
    "class Net(nn.Module):\n",
    "    def __init__(self):\n",
    "        super(Net,self).__init__()\n",
    "        self.conv1=nn.Conv2d(1,10,kernel_size=5)\n",
    "        self.conv2=nn.Conv2d(88,20,kernel_size=5)\n",
    "        self.incep1=Inception(in_channels=10)\n",
    "        self.incep2=Inception(in_channels=20)\n",
    "        self.mp=nn.MaxPool2d(2)\n",
    "        self.fc=nn.Linear(1408,10)\n",
    "    def forward(self,x):\n",
    "        in_size=x.shape(0)\n",
    "        x=F.relu(self.mp(self.conv1(x)))\n",
    "        x=self.incep1(x)\n",
    "        x=F.relu(self.mp(self.conv2(x)))\n",
    "        x=self.incep2(x)\n",
    "        x=x.view(in_size,-1)\n",
    "        x=self.fc(x)\n",
    "        return x       "
   ]
  },
  {
   "cell_type": "markdown",
   "metadata": {},
   "source": [
    "梯度消失,\n"
   ]
  }
 ],
 "metadata": {
  "kernelspec": {
   "display_name": "Python 3",
   "language": "python",
   "name": "python3"
  },
  "language_info": {
   "codemirror_mode": {
    "name": "ipython",
    "version": 3
   },
   "file_extension": ".py",
   "mimetype": "text/x-python",
   "name": "python",
   "nbconvert_exporter": "python",
   "pygments_lexer": "ipython3",
   "version": "3.7.4"
  }
 },
 "nbformat": 4,
 "nbformat_minor": 2
}
