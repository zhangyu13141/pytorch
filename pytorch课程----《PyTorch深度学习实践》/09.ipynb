{
 "cells": [
  {
   "cell_type": "markdown",
   "metadata": {},
   "source": [
    "如何解决多分类问题?以及如何实现?"
   ]
  },
  {
   "cell_type": "markdown",
   "metadata": {},
   "source": [
    "如果有10个分类?神经网络怎么设计?"
   ]
  },
  {
   "cell_type": "markdown",
   "metadata": {},
   "source": [
    "1.输出变成10个输出,p(y=i)i从0-9输出的效果上,\n",
    "10个输出会相互抑制,和为1,希望y1到y10满足分布上性质要求,\n",
    ">0,和为1\n",
    "输出是一个分布\n",
    "第10个等于1-前9个,比较麻烦\n",
    "构建网络的时候,用的计算都一样的,并行计算\n",
    "输出值将带有竞争性,输出就是一个分布\n",
    "前面这些层用sigmoid,最后一层用softmax\n",
    "softmax计算公式:\n",
    "exp(zi)/exp(zj)+...."
   ]
  },
  {
   "cell_type": "markdown",
   "metadata": {},
   "source": [
    "a/a+b+c,b/a+b+c,c/a+b+c"
   ]
  },
  {
   "cell_type": "markdown",
   "metadata": {},
   "source": [
    "损失函数怎么求?\n",
    "上一讲二分类-y的损失函数\n"
   ]
  },
  {
   "cell_type": "markdown",
   "metadata": {},
   "source": [
    "loss(Y',Y)=-YlogY'"
   ]
  },
  {
   "cell_type": "code",
   "execution_count": 4,
   "metadata": {},
   "outputs": [],
   "source": [
    "import numpy as np"
   ]
  },
  {
   "cell_type": "code",
   "execution_count": 6,
   "metadata": {},
   "outputs": [],
   "source": [
    "y=np.array([1,0,0])\n",
    "z=np.array([0.2,0.1,-0.1])"
   ]
  },
  {
   "cell_type": "code",
   "execution_count": 8,
   "metadata": {},
   "outputs": [],
   "source": [
    "y_pred=np.exp(z)/np.exp(z).sum()"
   ]
  },
  {
   "cell_type": "code",
   "execution_count": 11,
   "metadata": {},
   "outputs": [],
   "source": [
    "loss=(-y*np.log(y_pred)).sum()"
   ]
  },
  {
   "cell_type": "code",
   "execution_count": 12,
   "metadata": {},
   "outputs": [
    {
     "name": "stdout",
     "output_type": "stream",
     "text": [
      "0.9729189131256584\n"
     ]
    }
   ],
   "source": [
    "print(loss)"
   ]
  },
  {
   "cell_type": "markdown",
   "metadata": {},
   "source": [
    "torch.nn.CrossEntropyLoss()\n",
    "包括softmax,log,-yloyy',one-hot"
   ]
  },
  {
   "cell_type": "markdown",
   "metadata": {},
   "source": [
    "所以最后一层不做非线性函数处理"
   ]
  },
  {
   "cell_type": "code",
   "execution_count": 13,
   "metadata": {},
   "outputs": [],
   "source": [
    "import torch "
   ]
  },
  {
   "cell_type": "code",
   "execution_count": 16,
   "metadata": {},
   "outputs": [],
   "source": [
    "y=torch.LongTensor([0])#输入需要长整型\n",
    "z=torch.Tensor([[0.2,0.1,-0.1]])"
   ]
  },
  {
   "cell_type": "code",
   "execution_count": 18,
   "metadata": {},
   "outputs": [
    {
     "name": "stdout",
     "output_type": "stream",
     "text": [
      "tensor(0.9729)\n"
     ]
    }
   ],
   "source": [
    "criterion=torch.nn.CrossEntropyLoss()#函数使用\n",
    "loss1=criterion(z,y)\n",
    "print(loss1)"
   ]
  },
  {
   "cell_type": "code",
   "execution_count": null,
   "metadata": {},
   "outputs": [],
   "source": []
  },
  {
   "cell_type": "code",
   "execution_count": null,
   "metadata": {},
   "outputs": [],
   "source": []
  }
 ],
 "metadata": {
  "kernelspec": {
   "display_name": "Python 3",
   "language": "python",
   "name": "python3"
  },
  "language_info": {
   "codemirror_mode": {
    "name": "ipython",
    "version": 3
   },
   "file_extension": ".py",
   "mimetype": "text/x-python",
   "name": "python",
   "nbconvert_exporter": "python",
   "pygments_lexer": "ipython3",
   "version": "3.7.4"
  }
 },
 "nbformat": 4,
 "nbformat_minor": 2
}
