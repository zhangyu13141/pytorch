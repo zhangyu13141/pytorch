{
 "cells": [
  {
   "cell_type": "code",
   "execution_count": 1,
   "metadata": {},
   "outputs": [],
   "source": [
    "import torch\n",
    "import torch.nn as nn"
   ]
  },
  {
   "cell_type": "code",
   "execution_count": 4,
   "metadata": {},
   "outputs": [],
   "source": [
    "class ResidualBlock(nn.Module):\n",
    "    def __init__(self,channels):\n",
    "        super(ResidualBlock,self).__init__()\n",
    "        self.conv1=nn.Conv2d(channels,channels,kernel_size=3,padding=1)\n",
    "        self.conv2=nn.Conv2d(channels,channels,kernel_size=3,padding=1)\n",
    "    def forward(self,x):\n",
    "        y=F.relu(self.conv1(x))\n",
    "        y=self.conv2(y)\n",
    "        return F.relu(x+y)"
   ]
  },
  {
   "cell_type": "code",
   "execution_count": 5,
   "metadata": {},
   "outputs": [],
   "source": [
    "class Net(nn.Module):\n",
    "    def __init__(self):\n",
    "        super(Net,self).__init__()\n",
    "        self.conv1=nn.Conv2d(1,16,kernel_size=5)\n",
    "        self.conv2=nn.Conv2d(16,32,kernel_size=5)\n",
    "        self.mp=nn.MaxPool2d(2)\n",
    "        self.rblock1=ResidualBlock(channels=16)\n",
    "        self.rblock2=ResidualBlock(channels=32)\n",
    "        self.fc=nn.Linear(512,10)\n",
    "    def forward(x):\n",
    "        in_size=x.size(0)\n",
    "        x=self.mp(F.relu(self.conv1(x)))\n",
    "        x=self.rblock1(x)\n",
    "        x=self.mp(F.relu(self.conv2(x)))\n",
    "        x=self.rblock(x)\n",
    "        x=x.view(in_size,-1)\n",
    "        x=self.fc(x)\n",
    "        return x"
   ]
  },
  {
   "cell_type": "code",
   "execution_count": null,
   "metadata": {},
   "outputs": [],
   "source": []
  }
 ],
 "metadata": {
  "kernelspec": {
   "display_name": "Python 3",
   "language": "python",
   "name": "python3"
  },
  "language_info": {
   "codemirror_mode": {
    "name": "ipython",
    "version": 3
   },
   "file_extension": ".py",
   "mimetype": "text/x-python",
   "name": "python",
   "nbconvert_exporter": "python",
   "pygments_lexer": "ipython3",
   "version": "3.7.4"
  }
 },
 "nbformat": 4,
 "nbformat_minor": 2
}
