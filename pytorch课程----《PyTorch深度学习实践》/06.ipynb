{
 "cells": [
  {
   "cell_type": "markdown",
   "metadata": {},
   "source": [
    "回归问题和分类问题的区别:\n",
    "回归问题:y=w*x+b\n",
    "分类问题:输出概率,比如二分类问题,俩个概率之和为一,输出一个概率是多少\n",
    "分类问题是把y值映射到0-1,用1/1+exp(-x)\n",
    "想象一下这个函数的图像,是饱和函数,导数像正态分布函数\n",
    "sigmoid函数是指s形状的函数\n",
    "sigmoid函数:函数值有极限,比如(-1,1),单调增函数,满足饱和函数\n",
    "比如logistic function:1/1+exp(-x)---缩写:o上一撇,(0,1)\n",
    "tanh()\n",
    "x 不一定到+无穷或者-无穷\n",
    "模型变了---loss也变了,因为y输出为概率,所以p(class=0)=1,则p(class=1)=0,\n",
    "比较两个分布之间的差异,不是几何之间的差异,概率论与数理统计里的KL散度等等,cross-entropy交叉熵,\n",
    "loss=-(ylogy1+(1-y)log(1-y1))\n",
    "y=1 loss=-ylogy1 要想loss求最小, y1越接近于1,\n",
    "y=0 loss=-log(1-y1)  要想loss最小,y1越接近于0\n",
    "SCE Loss\n",
    "Mini-Batch Loss:求均值,有1/N,会影响到求导数,导数变小,会影响到学习率选择上\n"
   ]
  },
  {
   "cell_type": "code",
   "execution_count": 6,
   "metadata": {},
   "outputs": [],
   "source": [
    "import torchvision"
   ]
  },
  {
   "cell_type": "code",
   "execution_count": 7,
   "metadata": {},
   "outputs": [],
   "source": [
    "train_set=torchvision.datasets.MNIST(root='../datasets/mnist',train=True,download=True)"
   ]
  },
  {
   "cell_type": "code",
   "execution_count": 8,
   "metadata": {},
   "outputs": [],
   "source": [
    "test_set=torchvision.datasets.MNIST(root='../datasets/mnist',train=False,download=True)"
   ]
  },
  {
   "cell_type": "code",
   "execution_count": null,
   "metadata": {},
   "outputs": [
    {
     "name": "stdout",
     "output_type": "stream",
     "text": [
      "Downloading https://www.cs.toronto.edu/~kriz/cifar-10-python.tar.gz to ../datasets/mnist\\cifar-10-python.tar.gz\n"
     ]
    },
    {
     "data": {
      "application/vnd.jupyter.widget-view+json": {
       "model_id": "337bcdfb16884533869f64d638f4d61d",
       "version_major": 2,
       "version_minor": 0
      },
      "text/plain": [
       "HBox(children=(IntProgress(value=1, bar_style='info', max=1), HTML(value='')))"
      ]
     },
     "metadata": {},
     "output_type": "display_data"
    }
   ],
   "source": [
    "train_set=torchvision.datasets.CIFAR10(root='../datasets/mnist',train=True,download=True)"
   ]
  },
  {
   "cell_type": "code",
   "execution_count": null,
   "metadata": {},
   "outputs": [],
   "source": [
    "test_set=torchvision.datasets.CIFAR10(root='../datasets/mnist',train=False,download=True)"
   ]
  },
  {
   "cell_type": "code",
   "execution_count": null,
   "metadata": {},
   "outputs": [],
   "source": [
    "import torch.nn.functional as F"
   ]
  },
  {
   "cell_type": "code",
   "execution_count": null,
   "metadata": {},
   "outputs": [],
   "source": [
    "class LogisticRegressionModel(torch.nn.Module):\n",
    "    def __init__(self):\n",
    "        super(LogisticRegressionModel,self).__init__()\n",
    "        self.Linear=torch.nn.Linear(1,1)\n",
    "    def forward(self):\n",
    "        y_pred=F.sigmoid(self.Linear(x))\n",
    "        return y_pred"
   ]
  },
  {
   "cell_type": "code",
   "execution_count": null,
   "metadata": {},
   "outputs": [],
   "source": [
    "criterion=torch.nn.BCELoss()"
   ]
  },
  {
   "cell_type": "code",
   "execution_count": null,
   "metadata": {},
   "outputs": [],
   "source": []
  }
 ],
 "metadata": {
  "kernelspec": {
   "display_name": "Python 3",
   "language": "python",
   "name": "python3"
  },
  "language_info": {
   "codemirror_mode": {
    "name": "ipython",
    "version": 3
   },
   "file_extension": ".py",
   "mimetype": "text/x-python",
   "name": "python",
   "nbconvert_exporter": "python",
   "pygments_lexer": "ipython3",
   "version": "3.7.4"
  }
 },
 "nbformat": 4,
 "nbformat_minor": 2
}
