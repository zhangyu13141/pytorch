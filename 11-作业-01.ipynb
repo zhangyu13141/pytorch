{
 "cells": [
  {
   "cell_type": "code",
   "execution_count": 46,
   "metadata": {},
   "outputs": [],
   "source": [
    "import torch\n",
    "import torch.nn as nn"
   ]
  },
  {
   "cell_type": "code",
   "execution_count": 47,
   "metadata": {},
   "outputs": [],
   "source": [
    "from torchvision import transforms\n",
    "from torchvision import datasets\n",
    "from torch.utils.data import DataLoader\n",
    "import torch.nn.functional as F\n",
    "import torch.optim as optim"
   ]
  },
  {
   "cell_type": "code",
   "execution_count": 48,
   "metadata": {},
   "outputs": [],
   "source": [
    "transform=transforms.Compose([\n",
    "    transforms.ToTensor(),\n",
    "    transforms.Normalize((0.1307,),(0.3081,))])"
   ]
  },
  {
   "cell_type": "code",
   "execution_count": 49,
   "metadata": {},
   "outputs": [],
   "source": [
    "train_dataset=datasets.MNIST(root='../dataset/mnist/',\n",
    "                             train=True,\n",
    "                             download=True,\n",
    "                             transform=transform)"
   ]
  },
  {
   "cell_type": "code",
   "execution_count": 50,
   "metadata": {},
   "outputs": [],
   "source": [
    "batch_size=64"
   ]
  },
  {
   "cell_type": "code",
   "execution_count": 51,
   "metadata": {},
   "outputs": [],
   "source": [
    "train_loader=DataLoader(train_dataset,\n",
    "                       batch_size=batch_size,\n",
    "                       shuffle=True)"
   ]
  },
  {
   "cell_type": "code",
   "execution_count": 52,
   "metadata": {},
   "outputs": [],
   "source": [
    "test_dataset=datasets.MNIST(root='../dataset/mnist/',\n",
    "                           train=False,\n",
    "                           download=True,\n",
    "                           transform=transform)"
   ]
  },
  {
   "cell_type": "code",
   "execution_count": 53,
   "metadata": {},
   "outputs": [],
   "source": [
    "test_loader=DataLoader(test_dataset,\n",
    "                      batch_size=batch_size,\n",
    "                      shuffle=True)"
   ]
  },
  {
   "cell_type": "code",
   "execution_count": 54,
   "metadata": {},
   "outputs": [],
   "source": [
    "class ResidualBlock(nn.Module):\n",
    "    def __init__(self,channels):\n",
    "        super(ResidualBlock,self).__init__()\n",
    "        self.conv1=nn.Conv2d(channels,channels,kernel_size=3,padding=1)\n",
    "        self.conv2=nn.Conv2d(channels,channels,kernel_size=3,padding=1)\n",
    "    def forward(self,x):\n",
    "        y=F.relu(self.conv1(x))\n",
    "        y=self.conv2(y)\n",
    "        return F.relu(x+y)"
   ]
  },
  {
   "cell_type": "code",
   "execution_count": 55,
   "metadata": {},
   "outputs": [],
   "source": [
    "class ResidualConstantScaling(nn.Module):\n",
    "    def __init__(self,channels):\n",
    "        super(ResidualConstantScaling,self).__init__()\n",
    "        self.conv1=nn.Conv2d(channels,channels,kernel_size=3,padding=1)\n",
    "        self.conv2=nn.Conv2d(channels,channels,kernel_size=3,padding=1)\n",
    "    def forward(self,x):\n",
    "        y=F.relu(self.conv1(x))\n",
    "        y=self.conv2(y)\n",
    "        return F.relu(0.5*x+0.5*y)"
   ]
  },
  {
   "cell_type": "code",
   "execution_count": 56,
   "metadata": {},
   "outputs": [],
   "source": [
    "class ResidualConvShortcut(nn.Module):\n",
    "    def __init__(self,channels):\n",
    "        super(ResidualConvShortcut,self).__init__()\n",
    "        self.conv1=nn.Conv2d(channels,channels,kernel_size=3,padding=1)\n",
    "        self.conv2=nn.Conv2d(channels,channels,kernel_size=3,padding=1)\n",
    "        self.conv3=nn.Conv2d(channels,channels,kernel_size=1)\n",
    "    def forward(self,x):\n",
    "        y=F.relu(self.conv1(x))\n",
    "        y=self.conv2(y)\n",
    "        x=self.conv3(x)\n",
    "        return F.relu(x+y)"
   ]
  },
  {
   "cell_type": "code",
   "execution_count": 62,
   "metadata": {},
   "outputs": [],
   "source": [
    "class Net(nn.Module):\n",
    "    def __init__(self):\n",
    "        super(Net,self).__init__()\n",
    "        self.conv1=nn.Conv2d(1,16,kernel_size=5)\n",
    "        self.conv2=nn.Conv2d(16,32,kernel_size=5)\n",
    "        self.mp=nn.MaxPool2d(2)\n",
    "        self.rblock1=ResidualBlock(channels=16)\n",
    "        self.rblock2=ResidualBlock(channels=32)\n",
    "        self.fc=nn.Linear(512,10)\n",
    "    def forward(self,x):\n",
    "        in_size=x.size(0)\n",
    "        x=self.mp(F.relu(self.conv1(x)))\n",
    "        x=self.rblock1(x)\n",
    "        x=self.mp(F.relu(self.conv2(x)))\n",
    "        x=self.rblock2(x)\n",
    "        x=x.view(in_size,-1)\n",
    "        x=self.fc(x)\n",
    "        return x\n",
    "model=Net()"
   ]
  },
  {
   "cell_type": "code",
   "execution_count": 63,
   "metadata": {},
   "outputs": [],
   "source": [
    "criterion=torch.nn.CrossEntropyLoss()\n",
    "optimizer=optim.SGD(model.parameters(),lr=0.01)"
   ]
  },
  {
   "cell_type": "code",
   "execution_count": 64,
   "metadata": {},
   "outputs": [],
   "source": [
    "def train(epoch):\n",
    "    runing_loss=0\n",
    "    for batch_idx,data in enumerate(train_loader,0):\n",
    "        inputs,targets=data\n",
    "        optimizer.zero_grad()\n",
    "        output=model(inputs)\n",
    "        loss=criterion(output,targets)\n",
    "        loss.backward()\n",
    "        optimizer.step()\n",
    "        runing_loss+=loss.item()\n",
    "        if batch_idx%300==299:\n",
    "            print(epoch+1,batch_idx+1,runing_loss/300)"
   ]
  },
  {
   "cell_type": "code",
   "execution_count": 65,
   "metadata": {},
   "outputs": [],
   "source": [
    "def test():\n",
    "    correct=0\n",
    "    total=0\n",
    "    with torch.no_grad():\n",
    "        for data in test_loader:\n",
    "            inputs,labels=data\n",
    "            o=model(inputs)\n",
    "            _,predict=torch.max(o.data,dim=1)\n",
    "            total+=labels.size(0)\n",
    "            correct+=(predict==labels).sum().item()\n",
    "    print(correct/total*100)"
   ]
  },
  {
   "cell_type": "code",
   "execution_count": null,
   "metadata": {},
   "outputs": [
    {
     "name": "stdout",
     "output_type": "stream",
     "text": [
      "1 300 0.7647064708669981\n",
      "1 600 0.9867103164518873\n",
      "1 900 1.1554205532682438\n",
      "96.03\n",
      "2 300 0.13012087369337677\n",
      "2 600 0.24309731864680847\n",
      "2 900 0.3425486720725894\n",
      "97.74000000000001\n",
      "3 300 0.08863083760254085\n",
      "3 600 0.17200883506486814\n",
      "3 900 0.24820561928674578\n",
      "97.89\n",
      "4 300 0.07005051255847017\n",
      "4 600 0.14170489803111802\n",
      "4 900 0.20334518157721806\n",
      "98.37\n",
      "5 300 0.06473811823486661\n",
      "5 600 0.12221906644757836\n",
      "5 900 0.1751372180801506\n",
      "97.89\n",
      "6 300 0.050563594916214545\n",
      "6 600 0.10493266692462688\n",
      "6 900 0.15601105702963347\n",
      "98.72\n",
      "7 300 0.050648589603370056\n",
      "7 600 0.09512464746716433\n",
      "7 900 0.13993277221801692\n",
      "98.72\n",
      "8 300 0.03882531273722028\n"
     ]
    }
   ],
   "source": [
    "for epoch in range(10):\n",
    "    train(epoch)\n",
    "    test()"
   ]
  },
  {
   "cell_type": "code",
   "execution_count": null,
   "metadata": {},
   "outputs": [],
   "source": []
  },
  {
   "cell_type": "code",
   "execution_count": null,
   "metadata": {},
   "outputs": [],
   "source": []
  },
  {
   "cell_type": "code",
   "execution_count": null,
   "metadata": {},
   "outputs": [],
   "source": []
  },
  {
   "cell_type": "code",
   "execution_count": null,
   "metadata": {},
   "outputs": [],
   "source": []
  },
  {
   "cell_type": "code",
   "execution_count": null,
   "metadata": {},
   "outputs": [],
   "source": []
  }
 ],
 "metadata": {
  "kernelspec": {
   "display_name": "Python 3",
   "language": "python",
   "name": "python3"
  },
  "language_info": {
   "codemirror_mode": {
    "name": "ipython",
    "version": 3
   },
   "file_extension": ".py",
   "mimetype": "text/x-python",
   "name": "python",
   "nbconvert_exporter": "python",
   "pygments_lexer": "ipython3",
   "version": "3.7.4"
  }
 },
 "nbformat": 4,
 "nbformat_minor": 2
}
