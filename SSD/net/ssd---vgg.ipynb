{
 "cells": [
  {
   "cell_type": "code",
   "execution_count": 44,
   "metadata": {},
   "outputs": [],
   "source": [
    "import torch\n",
    "import torch.nn as nn\n",
    "import torch.nn.functional as F\n",
    "cfg = [64, 64, 'M', 128, 128, 'M', 256, 256, 256, 'C', 512, 512, 512, 'M',512, 512, 512]#vgg16:D\n",
    "def vgg():\n",
    "    in_channels=3\n",
    "    layers=[]\n",
    "    for v in cfg:\n",
    "        if v=='M':\n",
    "            layers+=[nn.MaxPool2d(kernel_size=2,stride=2)]\n",
    "        elif v=='C':\n",
    "            layers+=[nn.MaxPool2d(kernel_size=2,stride=2,ceil_mode=True)]\n",
    "        else:\n",
    "            c=nn.Conv2d(in_channels,v,kernel_size=3,padding=1)\n",
    "            layers+=[c,nn.ReLU(inplace=True)]\n",
    "            in_channels=v\n",
    "    pool5=nn.MaxPool2d(kernel_size=3,stride=1,padding=1)#512*19*19\n",
    "    #19+6*2=31--->31*31--->13*13--->31-13=18,18/1+1=19,--->1024*19*19\n",
    "    conv6=nn.Conv2d(512,1024,kernel_size=3,padding=6,dilation=6)#\n",
    "    conv7=nn.Conv2d(1024,1024,kernel_size=1)#19*19*1024\n",
    "    layers+=[pool5,conv6,nn.ReLU(),conv7,nn.ReLU()]\n",
    "    return nn.ModuleList(layers)"
   ]
  },
  {
   "cell_type": "code",
   "execution_count": 51,
   "metadata": {},
   "outputs": [
    {
     "data": {
      "text/plain": [
       "Conv2d(3, 64, kernel_size=(3, 3), stride=(1, 1), padding=(1, 1))"
      ]
     },
     "execution_count": 51,
     "metadata": {},
     "output_type": "execute_result"
    }
   ],
   "source": [
    "vgg()[0]"
   ]
  },
  {
   "cell_type": "code",
   "execution_count": 46,
   "metadata": {},
   "outputs": [],
   "source": [
    "def extra_layers():\n",
    "    layers=[]\n",
    "    layers+=[nn.Conv2d(1024,256,kernel_size=1),nn.Conv2d(256,512,kernel_size=3,stride=2,padding=1)]#1024*19*19->256*19*19-->512*10*10\n",
    "    layers+=[nn.Conv2d(512,128,kernel_size=1),nn.Conv2d(128,256,kernel_size=3,stride=2,padding=1)]#10*10*512--->5*5*256\n",
    "    layers+=[nn.Conv2d(256,128,kernel_size=1),nn.Conv2d(128,256,kernel_size=3,stride=2,padding=1)]#3*3*256\n",
    "    layers+=[nn.Conv2d(256,128,kernel_size=1),nn.Conv2d(128,256,kernel_size=3,stride=2,padding=1)]#1*1\n",
    "    return nn.ModuleList(layers)"
   ]
  },
  {
   "cell_type": "code",
   "execution_count": 47,
   "metadata": {},
   "outputs": [
    {
     "data": {
      "text/plain": [
       "ModuleList(\n",
       "  (0): Conv2d(1024, 256, kernel_size=(1, 1), stride=(1, 1))\n",
       "  (1): Conv2d(256, 512, kernel_size=(3, 3), stride=(2, 2), padding=(1, 1))\n",
       "  (2): Conv2d(512, 128, kernel_size=(1, 1), stride=(1, 1))\n",
       "  (3): Conv2d(128, 256, kernel_size=(3, 3), stride=(2, 2), padding=(1, 1))\n",
       "  (4): Conv2d(256, 128, kernel_size=(1, 1), stride=(1, 1))\n",
       "  (5): Conv2d(128, 256, kernel_size=(3, 3), stride=(2, 2), padding=(1, 1))\n",
       "  (6): Conv2d(256, 128, kernel_size=(1, 1), stride=(1, 1))\n",
       "  (7): Conv2d(128, 256, kernel_size=(3, 3), stride=(2, 2), padding=(1, 1))\n",
       ")"
      ]
     },
     "execution_count": 47,
     "metadata": {},
     "output_type": "execute_result"
    }
   ],
   "source": [
    "extra_layers()"
   ]
  },
  {
   "cell_type": "markdown",
   "metadata": {},
   "source": [
    "\n",
    "features=[]#存放用得到的6个图层\n",
    "for i in range(23):\n",
    "    x=vgg()[i]\n",
    "features.append(x)\n",
    "for i in range(23,len(vgg())):\n",
    "    x=vgg()[i]\n",
    "features.append(x)\n",
    "for k,v in enumerate(extra_layers()):\n",
    "    \n",
    "    if k%2==1:\n",
    "        features.append(x)\n",
    "print(nn.ModuleList(features))"
   ]
  },
  {
   "cell_type": "code",
   "execution_count": 49,
   "metadata": {},
   "outputs": [],
   "source": [
    "class SSD(nn.Module):\n",
    "    def __init__(self):\n",
    "        super(SSD,self).__init__()\n",
    "        self.vgg=vgg()\n",
    "        self.extra=extra_layers()\n",
    "        self.cls_block,self.reg_block=cls_reg_block()\n",
    "    def forward(self,x):\n",
    "        #++++++++++++++++++++++++++++++++++存放用得到的6个特征层,也就是图片分成多少格\n",
    "        features=[]   \n",
    "        for i in range(23):\n",
    "            x=self.vgg[i](x)\n",
    "        features.append(x)\n",
    "        for k in range(k,len(self.vgg)):\n",
    "            x=self.vgg[k](x)\n",
    "        features.append(x)\n",
    "        for k,v in enumerate(self.extra):\n",
    "            x=F.relu(v(x),inplace=True)\n",
    "            if k%2==1:\n",
    "                features.append(x)\n",
    "        #+++++++++++++++++++++++++++++++\n",
    "        pred_cls=[]\n",
    "        pred_locs=[]\n",
    "        for feature,cls_block,reg_block in zip(features,self.cls_block,self.reg_block):\n",
    "            pred_cls.append(cls_block(feature).permute(0,2,3,1))\n",
    "            ored_locs.append(reg_block(feature).permute(0,2,3,1))#分类和卷积是并行的两步\n",
    "        # 将六个特征图每个特征点上的不同anchor预测得出的各类置信度合并到一起\n",
    "        # [batch_size, num_anchors*num_classes]) ->  [batch_size, num_anchors, num_classes]\n",
    "        pred_cls = torch.cat([c.reshape(batch_size, -1) for c in pred_cls], dim=1).view(batch_size, -1, cfg_.num_classes)\n",
    "        # 将六个特征图每个特征点上的不同anchor预测得出的各个修正系数合并到一起\n",
    "        # [batch_size, num_anchors*4]  ->  [batch_size, num_anchors, 4]\n",
    "        pred_locs = torch.cat([l.reshape(batch_size, -1) for l in pred_locs], dim=1).view(batch_size, -1, 4)\n",
    "        return pred_locs, pred_cls\n",
    "       \n",
    "                   "
   ]
  },
  {
   "cell_type": "code",
   "execution_count": 60,
   "metadata": {},
   "outputs": [],
   "source": [
    "def cls_reg_block():\n",
    "    #每个格多少个先验框,先验框预测位置和分类\n",
    "    cls_blocks=nn.ModuleList()\n",
    "    reg_blocks=nn.ModuleList()\n",
    "    #前边一连串代表先验框数量,后边代表每个图层输出的通道数\n",
    "    a=zip([4,6,6,6,4,4],[512,1024,512,256,256,256])\n",
    "    for anchors_per_feature,c_out in a:\n",
    "            cls_blocks.append(nn.Conv2d(c_out,anchers_per_feature*21,kernel_size=3,padding=1))#分类卷积\n",
    "            reg_blocks.append(nn.Conv2d(c_out,anchers_per_feature*4,kernel_size=3,padding=1))#回归卷积,4代表坐标\n",
    "    return cls_blocks,reg_blocks"
   ]
  },
  {
   "cell_type": "code",
   "execution_count": null,
   "metadata": {},
   "outputs": [],
   "source": []
  },
  {
   "cell_type": "code",
   "execution_count": null,
   "metadata": {},
   "outputs": [],
   "source": []
  }
 ],
 "metadata": {
  "kernelspec": {
   "display_name": "Python 3",
   "language": "python",
   "name": "python3"
  },
  "language_info": {
   "codemirror_mode": {
    "name": "ipython",
    "version": 3
   },
   "file_extension": ".py",
   "mimetype": "text/x-python",
   "name": "python",
   "nbconvert_exporter": "python",
   "pygments_lexer": "ipython3",
   "version": "3.7.4"
  }
 },
 "nbformat": 4,
 "nbformat_minor": 2
}
